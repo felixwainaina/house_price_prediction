import pandas as pd
import numpy as np
import matplotlib.pyplot as plt
import seaborn as sns
from sklearn.model_selection import train_test_split
from sklearn.linear_model import LinearRegression
from sklearn.metrics import mean_squared_error

# Load dataset
data = pd.read_csv('house.csv')

#Let's start by exploring the data.
data.head()  # View the first few rows
data.info()  # Check data types and missing values
data.describe()  # Summary statistics

#Visualizing the Data
# Histogram for SalePrice
plt.figure(figsize=(10, 6))
sns.histplot(data['SalePrice'], kde=True)
plt.title('Distribution of SalePrice')
plt.show()

# Correlation matrix
correlation_matrix = data.corr()
plt.figure(figsize=(12, 10))
sns.heatmap(correlation_matrix, annot=True, cmap='coolwarm')
plt.title('Correlation Matrix')   
plt.show()

# Handling missing values
data.isnull().sum()  # Check for missing values
# Impute missing values (example)
data['LotFrontage'] = data['LotFrontage'].fillna(data['LotFrontage'].median())

# Outlier detection
plt.boxplot(data['SalePrice'])  # Visualize outliers
# Remove outliers (example)
data = data[data['SalePrice'] < 400000]

# Feature engineering
data['TotalSF'] = data['1stFlrSF'] + data['2ndFlrSF'] + data['TotalBsmtSF']

# Exploratory visualization
sns.pairplot(data[['SalePrice', 'GrLivArea', 'TotalBsmtSF', 'OverallQual']])

from sklearn.model_selection import train_test_split
from sklearn.preprocessing import StandardScaler

# Assuming 'X' is your feature matrix and 'y' is the target variable (SalePrice)
X = data.drop('SalePrice', axis=1)
y = data['SalePrice']

# Handle categorical features and numerical scaling (if needed)
# ...

X_train, X_test, y_train, y_test = train_test_split(X, y, test_size=0.2, random_state=42)

#Choosing a Baseline Model
from sklearn.linear_model import LinearRegression
model = LinearRegression()
model.fit(X_train, y_train)

#Model Evaluation
from sklearn.metrics import mean_squared_error

y_pred = model.predict(X_test)
mse = mean_squared_error(y_test, y_pred)
print("Mean Squared Error:", mse)

#Feature Engineering
from sklearn.ensemble import RandomForestRegressor
import eli5
from eli5.sklearn import PermutationImportance

# Create a Random Forest model for feature importance
rf_model = RandomForestRegressor(random_state=42)
rf_model.fit(X_train, y_train)

# Permutation importance
perm = PermutationImportance(rf_model, random_state=42).fit(X_test, y_test)
eli5.show_weights(perm, feature_names=X_test.columns.tolist())


# Creating New Features
# Example of creating a new feature
data['TotalSF'] = data['1stFlrSF'] + data['2ndFlrSF'] + data['TotalBsmtSF']

#Understanding Feature Importance
from sklearn.ensemble import RandomForestRegressor
import eli5
from eli5.sklearn import PermutationImportance

# Create a Random Forest model for feature importance
rf_model = RandomForestRegressor(random_state=42)
rf_model.fit(X_train, y_train)

# Permutation importance
perm = PermutationImportance(rf_model, random_state=42).fit(X_test, y_test)
eli5.show_weights(perm, feature_names=X_test.columns.tolist())

#Creating New Features
# Example of creating new features
data['TotalSF'] = data['1stFlrSF'] + data['2ndFlrSF'] + data['TotalBsmtSF']
data['OverallQual_GrLivArea'] = data['OverallQual'] * data['GrLivArea']


#Retraining the Model
# ... data preprocessing steps ...

model = LinearRegression()
model.fit(X_train, y_train)

y_pred = model.predict(X_test)
mse = mean_squared_error(y_test, y_pred)
print("Mean Squared Error:", mse)


#Evaluating Model Performance
from sklearn.metrics import mean_squared_error

y_pred = model.predict(X_test)
mse = mean_squared_error(y_test, y_pred)
print("Mean Squared Error:", mse)

#Data Visualization
import matplotlib.pyplot as plt
import seaborn as sns

# Distribution of SalePrice
plt.figure(figsize=(10, 6))
sns.histplot(data['SalePrice'], kde=True)
plt.title('Distribution of SalePrice')
plt.show()

# Correlation matrix
correlation_matrix = data.corr()
plt.figure(figsize=(12, 10))
sns.heatmap(correlation_matrix, annot=True, cmap='coolwarm')
plt.title('Correlation Matrix')
plt.show()

# Scatter plot between GrLivArea and SalePrice
plt.figure(figsize=(8, 6))
sns.scatterplot(x='GrLivArea', y='SalePrice', data=data)
plt.title('GrLivArea vs SalePrice')
plt.show()

#Focusing on a Specific Aspect: Distribution of SalePrice
import seaborn as sns
import matplotlib.pyplot as plt

# Histogram
plt.figure(figsize=(10, 6))
sns.histplot(data['SalePrice'], kde=True, bins=30)
plt.title('Distribution of SalePrice')
plt.xlabel('Sale Price')
plt.ylabel('Frequency')
plt.show()

# Box plot
plt.figure(figsize=(8, 6))
sns.boxplot(y=data['SalePrice'])
plt.title('Box Plot of SalePrice')
plt.ylabel('Sale Price')
plt.show()
